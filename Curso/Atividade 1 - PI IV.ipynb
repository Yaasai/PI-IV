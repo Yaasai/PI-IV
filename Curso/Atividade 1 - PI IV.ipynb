{
 "cells": [
  {
   "cell_type": "code",
   "execution_count": 3,
   "metadata": {},
   "outputs": [],
   "source": [
    "import pandas as pd\n",
    "import matplotlib as mpl\n",
    "import matplotlib.pyplot as plt\n",
    "import numpy as np"
   ]
  },
  {
   "cell_type": "code",
   "execution_count": 4,
   "metadata": {},
   "outputs": [],
   "source": [
    "dados = [[1980,30,68],[1990,43,109],[2000,62,141],\n",
    "         [2010,74,180],[2019,91,207]]\n",
    "df_funcionarios = pd.DataFrame(dados,columns=['Ano',\n",
    "                                              'Mulheres',\n",
    "                                              'Homens'])\n",
    "df_funcionarios['Total'] = df_funcionarios.iloc[:,1:3].sum(axis=1)\n",
    "df_funcionarios.set_index('Ano', inplace=True)"
   ]
  },
  {
   "cell_type": "code",
   "execution_count": 5,
   "metadata": {},
   "outputs": [
    {
     "data": {
      "text/html": [
       "<div>\n",
       "<style scoped>\n",
       "    .dataframe tbody tr th:only-of-type {\n",
       "        vertical-align: middle;\n",
       "    }\n",
       "\n",
       "    .dataframe tbody tr th {\n",
       "        vertical-align: top;\n",
       "    }\n",
       "\n",
       "    .dataframe thead th {\n",
       "        text-align: right;\n",
       "    }\n",
       "</style>\n",
       "<table border=\"1\" class=\"dataframe\">\n",
       "  <thead>\n",
       "    <tr style=\"text-align: right;\">\n",
       "      <th></th>\n",
       "      <th>Mulheres</th>\n",
       "      <th>Homens</th>\n",
       "      <th>Total</th>\n",
       "    </tr>\n",
       "    <tr>\n",
       "      <th>Ano</th>\n",
       "      <th></th>\n",
       "      <th></th>\n",
       "      <th></th>\n",
       "    </tr>\n",
       "  </thead>\n",
       "  <tbody>\n",
       "    <tr>\n",
       "      <th>1980</th>\n",
       "      <td>30</td>\n",
       "      <td>68</td>\n",
       "      <td>98</td>\n",
       "    </tr>\n",
       "    <tr>\n",
       "      <th>1990</th>\n",
       "      <td>43</td>\n",
       "      <td>109</td>\n",
       "      <td>152</td>\n",
       "    </tr>\n",
       "    <tr>\n",
       "      <th>2000</th>\n",
       "      <td>62</td>\n",
       "      <td>141</td>\n",
       "      <td>203</td>\n",
       "    </tr>\n",
       "    <tr>\n",
       "      <th>2010</th>\n",
       "      <td>74</td>\n",
       "      <td>180</td>\n",
       "      <td>254</td>\n",
       "    </tr>\n",
       "    <tr>\n",
       "      <th>2019</th>\n",
       "      <td>91</td>\n",
       "      <td>207</td>\n",
       "      <td>298</td>\n",
       "    </tr>\n",
       "  </tbody>\n",
       "</table>\n",
       "</div>"
      ],
      "text/plain": [
       "      Mulheres  Homens  Total\n",
       "Ano                          \n",
       "1980        30      68     98\n",
       "1990        43     109    152\n",
       "2000        62     141    203\n",
       "2010        74     180    254\n",
       "2019        91     207    298"
      ]
     },
     "execution_count": 5,
     "metadata": {},
     "output_type": "execute_result"
    }
   ],
   "source": [
    "df_funcionarios.head()"
   ]
  },
  {
   "cell_type": "code",
   "execution_count": 6,
   "metadata": {},
   "outputs": [
    {
     "data": {
      "image/png": "[encoded data removed]",
      "text/plain": [
       "<Figure size 432x288 with 1 Axes>"
      ]
     },
     "metadata": {},
     "output_type": "display_data"
    }
   ],
   "source": [
    "df_funcionarios.iloc[:,0:2].plot(kind='bar')\n",
    "plt.ylabel('Quantidade de funcionários')\n",
    "plt.show()"
   ]
  },
  {
   "cell_type": "code",
   "execution_count": 7,
   "metadata": {},
   "outputs": [
    {
     "data": {
      "text/html": [
       "<div>\n",
       "<style scoped>\n",
       "    .dataframe tbody tr th:only-of-type {\n",
       "        vertical-align: middle;\n",
       "    }\n",
       "\n",
       "    .dataframe tbody tr th {\n",
       "        vertical-align: top;\n",
       "    }\n",
       "\n",
       "    .dataframe thead th {\n",
       "        text-align: right;\n",
       "    }\n",
       "</style>\n",
       "<table border=\"1\" class=\"dataframe\">\n",
       "  <thead>\n",
       "    <tr style=\"text-align: right;\">\n",
       "      <th></th>\n",
       "      <th>Mulheres</th>\n",
       "      <th>Homens</th>\n",
       "    </tr>\n",
       "    <tr>\n",
       "      <th>Ano</th>\n",
       "      <th></th>\n",
       "      <th></th>\n",
       "    </tr>\n",
       "  </thead>\n",
       "  <tbody>\n",
       "    <tr>\n",
       "      <th>1980</th>\n",
       "      <td>30.612245</td>\n",
       "      <td>69.387755</td>\n",
       "    </tr>\n",
       "    <tr>\n",
       "      <th>1990</th>\n",
       "      <td>28.289474</td>\n",
       "      <td>71.710526</td>\n",
       "    </tr>\n",
       "    <tr>\n",
       "      <th>2000</th>\n",
       "      <td>30.541872</td>\n",
       "      <td>69.458128</td>\n",
       "    </tr>\n",
       "    <tr>\n",
       "      <th>2010</th>\n",
       "      <td>29.133858</td>\n",
       "      <td>70.866142</td>\n",
       "    </tr>\n",
       "    <tr>\n",
       "      <th>2019</th>\n",
       "      <td>30.536913</td>\n",
       "      <td>69.463087</td>\n",
       "    </tr>\n",
       "  </tbody>\n",
       "</table>\n",
       "</div>"
      ],
      "text/plain": [
       "       Mulheres     Homens\n",
       "Ano                       \n",
       "1980  30.612245  69.387755\n",
       "1990  28.289474  71.710526\n",
       "2000  30.541872  69.458128\n",
       "2010  29.133858  70.866142\n",
       "2019  30.536913  69.463087"
      ]
     },
     "execution_count": 7,
     "metadata": {},
     "output_type": "execute_result"
    }
   ],
   "source": [
    "# Criando a tabela com a porcentagem\n",
    "df_funcaPorcentagem = df_funcionarios.copy()\n",
    "df_funcaPorcentagem['Mulheres'] = df_funcionarios['Mulheres']/df_funcionarios['Total'] * 100\n",
    "df_funcaPorcentagem['Homens'] = df_funcionarios['Homens']/df_funcionarios['Total'] * 100\n",
    "df_funcaPorcentagem.drop(columns=['Total'], inplace=True)\n",
    "df_funcaPorcentagem.head()"
   ]
  },
  {
   "cell_type": "code",
   "execution_count": 8,
   "metadata": {},
   "outputs": [
    {
     "data": {
      "image/png": "[encoded data removed]",
      "text/plain": [
       "<Figure size 432x288 with 1 Axes>"
      ]
     },
     "metadata": {},
     "output_type": "display_data"
    }
   ],
   "source": [
    "ax = df_funcaPorcentagem.plot(kind='bar')\n",
    "ax.legend(bbox_to_anchor=(1, 1.03))\n",
    "plt.ylabel('Porcentagem de funcionários')\n",
    "plt.show()"
   ]
  },
  {
   "cell_type": "code",
   "execution_count": 9,
   "metadata": {},
   "outputs": [
    {
     "data": {
      "text/html": [
       "<div>\n",
       "<style scoped>\n",
       "    .dataframe tbody tr th:only-of-type {\n",
       "        vertical-align: middle;\n",
       "    }\n",
       "\n",
       "    .dataframe tbody tr th {\n",
       "        vertical-align: top;\n",
       "    }\n",
       "\n",
       "    .dataframe thead th {\n",
       "        text-align: right;\n",
       "    }\n",
       "</style>\n",
       "<table border=\"1\" class=\"dataframe\">\n",
       "  <thead>\n",
       "    <tr style=\"text-align: right;\">\n",
       "      <th></th>\n",
       "      <th>Mulheres</th>\n",
       "      <th>Homens</th>\n",
       "    </tr>\n",
       "    <tr>\n",
       "      <th>Ano</th>\n",
       "      <th></th>\n",
       "      <th></th>\n",
       "    </tr>\n",
       "  </thead>\n",
       "  <tbody>\n",
       "    <tr>\n",
       "      <th>1980 - 1990</th>\n",
       "      <td>13</td>\n",
       "      <td>41</td>\n",
       "    </tr>\n",
       "    <tr>\n",
       "      <th>1990 - 2000</th>\n",
       "      <td>19</td>\n",
       "      <td>32</td>\n",
       "    </tr>\n",
       "    <tr>\n",
       "      <th>2000 - 2010</th>\n",
       "      <td>12</td>\n",
       "      <td>39</td>\n",
       "    </tr>\n",
       "    <tr>\n",
       "      <th>2010 - 2019</th>\n",
       "      <td>17</td>\n",
       "      <td>27</td>\n",
       "    </tr>\n",
       "  </tbody>\n",
       "</table>\n",
       "</div>"
      ],
      "text/plain": [
       "            Mulheres Homens\n",
       "Ano                        \n",
       "1980 - 1990       13     41\n",
       "1990 - 2000       19     32\n",
       "2000 - 2010       12     39\n",
       "2010 - 2019       17     27"
      ]
     },
     "execution_count": 9,
     "metadata": {},
     "output_type": "execute_result"
    }
   ],
   "source": [
    "dados = []\n",
    "df_diff = pd.DataFrame(dados,columns=['Ano','Mulheres','Homens'])\n",
    "\n",
    "tamanho = df_funcionarios.shape[0];\n",
    "i = 1;\n",
    "anos = list(df_funcionarios.index.values);\n",
    "\n",
    "while i < tamanho:\n",
    "    ano = str(anos[i-1]) + ' - ' + str(anos[i])\n",
    "    mulheres = df_funcionarios.iloc[i,0] - df_funcionarios.iloc[i-1, 0]\n",
    "    homens = df_funcionarios.iloc[i,1] - df_funcionarios.iloc[i-1, 1]\n",
    "    df_diff = df_diff.append({'Ano':ano,'Mulheres': mulheres, 'Homens':homens}, ignore_index=True)\n",
    "    i+=1\n",
    "df_diff.set_index('Ano', inplace=True)\n",
    "\n",
    "\n",
    "df_diff.head()"
   ]
  },
  {
   "cell_type": "code",
   "execution_count": 11,
   "metadata": {},
   "outputs": [
    {
     "data": {
      "image/png": "[encoded data removed]",
      "text/plain": [
       "<Figure size 432x288 with 1 Axes>"
      ]
     },
     "metadata": {},
     "output_type": "display_data"
    }
   ],
   "source": [
    "df_diff.plot(kind='bar')\n",
    "plt.ylabel('Aumento de funcionários')\n",
    "plt.xlabel('Período de tempo')\n",
    "plt.show()"
   ]
  }
 ],
 "metadata": {
  "kernelspec": {
   "display_name": "Python 3",
   "language": "python",
   "name": "python3"
  },
  "language_info": {
   "codemirror_mode": {
    "name": "ipython",
    "version": 3
   },
   "file_extension": ".py",
   "mimetype": "text/x-python",
   "name": "python",
   "nbconvert_exporter": "python",
   "pygments_lexer": "ipython3",
   "version": "3.6.8"
  }
 },
 "nbformat": 4,
 "nbformat_minor": 2
}
